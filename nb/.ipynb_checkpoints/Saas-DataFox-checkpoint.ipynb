{
 "cells": [
  {
   "cell_type": "code",
   "execution_count": 2,
   "metadata": {
    "collapsed": true
   },
   "outputs": [],
   "source": [
    "%matplotlib inline\n",
    "import pandas as pd\n",
    "from pandas import DataFrame, Series\n",
    "import numpy as np"
   ]
  },
  {
   "cell_type": "code",
   "execution_count": 3,
   "metadata": {
    "collapsed": true
   },
   "outputs": [],
   "source": [
    "url = '../data/first-look-vc/SaaS-july614.csv'"
   ]
  },
  {
   "cell_type": "code",
   "execution_count": 4,
   "metadata": {
    "collapsed": false
   },
   "outputs": [
    {
     "name": "stdout",
     "output_type": "stream",
     "text": [
      "<class 'pandas.core.frame.DataFrame'>\n",
      "Int64Index: 280 entries, 0 to 279\n",
      "Data columns (total 11 columns):\n",
      "DataFox Id          280 non-null object\n",
      "Name                280 non-null object\n",
      "Top Keywords        279 non-null object\n",
      "Year Founded        226 non-null float64\n",
      "Exit Status         15 non-null object\n",
      "Location            111 non-null object\n",
      "Score               75 non-null float64\n",
      "Revenue Estimate    64 non-null object\n",
      "Private Funding     81 non-null float64\n",
      "Headcount           280 non-null object\n",
      "Web Traffic         159 non-null float64\n",
      "dtypes: float64(4), object(7)\n",
      "memory usage: 26.2+ KB\n",
      "None\n"
     ]
    }
   ],
   "source": [
    "data = pd.read_csv(url)\n",
    "print data.info()"
   ]
  },
  {
   "cell_type": "code",
   "execution_count": 5,
   "metadata": {
    "collapsed": false
   },
   "outputs": [
    {
     "data": {
      "text/html": [
       "<div>\n",
       "<table border=\"1\" class=\"dataframe\">\n",
       "  <thead>\n",
       "    <tr style=\"text-align: right;\">\n",
       "      <th></th>\n",
       "      <th>DataFox Id</th>\n",
       "      <th>Name</th>\n",
       "      <th>Top Keywords</th>\n",
       "      <th>Year Founded</th>\n",
       "      <th>Exit Status</th>\n",
       "      <th>Location</th>\n",
       "      <th>Score</th>\n",
       "      <th>Revenue Estimate</th>\n",
       "      <th>Private Funding</th>\n",
       "      <th>Headcount</th>\n",
       "      <th>Web Traffic</th>\n",
       "    </tr>\n",
       "  </thead>\n",
       "  <tbody>\n",
       "    <tr>\n",
       "      <th>0</th>\n",
       "      <td>5130efcc8989846a360017f0</td>\n",
       "      <td>Diversity Limited</td>\n",
       "      <td>content, web development, saas, enterprise sof...</td>\n",
       "      <td>2007</td>\n",
       "      <td>NaN</td>\n",
       "      <td>NaN</td>\n",
       "      <td>NaN</td>\n",
       "      <td>NaN</td>\n",
       "      <td>NaN</td>\n",
       "      <td>=\"1-10\"</td>\n",
       "      <td>NaN</td>\n",
       "    </tr>\n",
       "    <tr>\n",
       "      <th>1</th>\n",
       "      <td>5130efd08989846a3600225a</td>\n",
       "      <td>Qrimp</td>\n",
       "      <td>application platforms, software, saas, paas, d...</td>\n",
       "      <td>2006</td>\n",
       "      <td>NaN</td>\n",
       "      <td>NaN</td>\n",
       "      <td>NaN</td>\n",
       "      <td>NaN</td>\n",
       "      <td>NaN</td>\n",
       "      <td>=\"Unknown\"</td>\n",
       "      <td>436</td>\n",
       "    </tr>\n",
       "    <tr>\n",
       "      <th>2</th>\n",
       "      <td>5130efd28989846a36002872</td>\n",
       "      <td>Xcerion</td>\n",
       "      <td>webos, web development, software, cloud comput...</td>\n",
       "      <td>2001</td>\n",
       "      <td>NaN</td>\n",
       "      <td>NaN</td>\n",
       "      <td>937</td>\n",
       "      <td>&gt; $7m</td>\n",
       "      <td>15340000</td>\n",
       "      <td>=\"11-50\"</td>\n",
       "      <td>1004</td>\n",
       "    </tr>\n",
       "    <tr>\n",
       "      <th>3</th>\n",
       "      <td>5130efd78989846a360039b0</td>\n",
       "      <td>Big Blue Q</td>\n",
       "      <td>file sharing, enterprises, social network medi...</td>\n",
       "      <td>2008</td>\n",
       "      <td>NaN</td>\n",
       "      <td>Delaware, OH</td>\n",
       "      <td>854</td>\n",
       "      <td>&gt; $2m</td>\n",
       "      <td>NaN</td>\n",
       "      <td>=\"11-50\"</td>\n",
       "      <td>NaN</td>\n",
       "    </tr>\n",
       "    <tr>\n",
       "      <th>4</th>\n",
       "      <td>5130efd98989846a36003d22</td>\n",
       "      <td>Intera</td>\n",
       "      <td>video on demand, project management, crm, soft...</td>\n",
       "      <td>NaN</td>\n",
       "      <td>NaN</td>\n",
       "      <td>NaN</td>\n",
       "      <td>NaN</td>\n",
       "      <td>NaN</td>\n",
       "      <td>NaN</td>\n",
       "      <td>=\"11-50\"</td>\n",
       "      <td>NaN</td>\n",
       "    </tr>\n",
       "  </tbody>\n",
       "</table>\n",
       "</div>"
      ],
      "text/plain": [
       "                 DataFox Id               Name  \\\n",
       "0  5130efcc8989846a360017f0  Diversity Limited   \n",
       "1  5130efd08989846a3600225a              Qrimp   \n",
       "2  5130efd28989846a36002872            Xcerion   \n",
       "3  5130efd78989846a360039b0         Big Blue Q   \n",
       "4  5130efd98989846a36003d22             Intera   \n",
       "\n",
       "                                        Top Keywords  Year Founded  \\\n",
       "0  content, web development, saas, enterprise sof...          2007   \n",
       "1  application platforms, software, saas, paas, d...          2006   \n",
       "2  webos, web development, software, cloud comput...          2001   \n",
       "3  file sharing, enterprises, social network medi...          2008   \n",
       "4  video on demand, project management, crm, soft...           NaN   \n",
       "\n",
       "  Exit Status      Location  Score Revenue Estimate  Private Funding  \\\n",
       "0         NaN           NaN    NaN              NaN              NaN   \n",
       "1         NaN           NaN    NaN              NaN              NaN   \n",
       "2         NaN           NaN    937            > $7m         15340000   \n",
       "3         NaN  Delaware, OH    854            > $2m              NaN   \n",
       "4         NaN           NaN    NaN              NaN              NaN   \n",
       "\n",
       "    Headcount  Web Traffic  \n",
       "0     =\"1-10\"          NaN  \n",
       "1  =\"Unknown\"          436  \n",
       "2    =\"11-50\"         1004  \n",
       "3    =\"11-50\"          NaN  \n",
       "4    =\"11-50\"          NaN  "
      ]
     },
     "execution_count": 5,
     "metadata": {},
     "output_type": "execute_result"
    }
   ],
   "source": [
    "data[:5]"
   ]
  },
  {
   "cell_type": "code",
   "execution_count": 7,
   "metadata": {
    "collapsed": false
   },
   "outputs": [
    {
     "name": "stdout",
     "output_type": "stream",
     "text": [
      "<class 'pandas.core.frame.DataFrame'>\n",
      "Int64Index: 111 entries, 3 to 277\n",
      "Data columns (total 11 columns):\n",
      "DataFox Id          111 non-null object\n",
      "Name                111 non-null object\n",
      "Top Keywords        111 non-null object\n",
      "Year Founded        92 non-null float64\n",
      "Exit Status         10 non-null object\n",
      "Location            111 non-null object\n",
      "Score               34 non-null float64\n",
      "Revenue Estimate    27 non-null object\n",
      "Private Funding     43 non-null float64\n",
      "Headcount           111 non-null object\n",
      "Web Traffic         79 non-null float64\n",
      "dtypes: float64(4), object(7)\n",
      "memory usage: 10.4+ KB\n"
     ]
    }
   ],
   "source": [
    "#dropping records without a location\n",
    "data = data[pd.notnull(data['Location'])]\n",
    "data.info()"
   ]
  },
  {
   "cell_type": "code",
   "execution_count": 8,
   "metadata": {
    "collapsed": false
   },
   "outputs": [
    {
     "data": {
      "text/html": [
       "<div>\n",
       "<table border=\"1\" class=\"dataframe\">\n",
       "  <thead>\n",
       "    <tr style=\"text-align: right;\">\n",
       "      <th></th>\n",
       "      <th>DataFox Id</th>\n",
       "      <th>Name</th>\n",
       "      <th>Top Keywords</th>\n",
       "      <th>Year Founded</th>\n",
       "      <th>Exit Status</th>\n",
       "      <th>Location</th>\n",
       "      <th>Score</th>\n",
       "      <th>Revenue Estimate</th>\n",
       "      <th>Private Funding</th>\n",
       "      <th>Headcount</th>\n",
       "      <th>Web Traffic</th>\n",
       "    </tr>\n",
       "  </thead>\n",
       "  <tbody>\n",
       "    <tr>\n",
       "      <th>3</th>\n",
       "      <td>5130efd78989846a360039b0</td>\n",
       "      <td>Big Blue Q</td>\n",
       "      <td>file sharing, enterprises, social network medi...</td>\n",
       "      <td>2008</td>\n",
       "      <td>NaN</td>\n",
       "      <td>Delaware, OH</td>\n",
       "      <td>854</td>\n",
       "      <td>&gt; $2m</td>\n",
       "      <td>NaN</td>\n",
       "      <td>=\"11-50\"</td>\n",
       "      <td>NaN</td>\n",
       "    </tr>\n",
       "    <tr>\n",
       "      <th>6</th>\n",
       "      <td>5130efe08989846a36005520</td>\n",
       "      <td>ForeSoft</td>\n",
       "      <td>curated web, cloud computing, databases, paas,...</td>\n",
       "      <td>2001</td>\n",
       "      <td>NaN</td>\n",
       "      <td>Lake Zurich, IL</td>\n",
       "      <td>NaN</td>\n",
       "      <td>&gt; $2m</td>\n",
       "      <td>NaN</td>\n",
       "      <td>=\"11-50\"</td>\n",
       "      <td>896</td>\n",
       "    </tr>\n",
       "    <tr>\n",
       "      <th>8</th>\n",
       "      <td>5130efe28989846a36005c0e</td>\n",
       "      <td>ElectricApps</td>\n",
       "      <td>cloud computing, software, paas, custom softwa...</td>\n",
       "      <td>2007</td>\n",
       "      <td>NaN</td>\n",
       "      <td>Edgewater, CO</td>\n",
       "      <td>NaN</td>\n",
       "      <td>&gt; $2m</td>\n",
       "      <td>NaN</td>\n",
       "      <td>=\"11-50\"</td>\n",
       "      <td>NaN</td>\n",
       "    </tr>\n",
       "    <tr>\n",
       "      <th>9</th>\n",
       "      <td>5130eff28989846a36008b2a</td>\n",
       "      <td>NewServers</td>\n",
       "      <td>web hosting, dedicated servers, bare metal clo...</td>\n",
       "      <td>2007</td>\n",
       "      <td>NaN</td>\n",
       "      <td>Fort Lauderdale, FL</td>\n",
       "      <td>876</td>\n",
       "      <td>&gt; $7m</td>\n",
       "      <td>NaN</td>\n",
       "      <td>=\"11-50\"</td>\n",
       "      <td>0</td>\n",
       "    </tr>\n",
       "    <tr>\n",
       "      <th>12</th>\n",
       "      <td>5130f0098989846a3600d448</td>\n",
       "      <td>JRapid</td>\n",
       "      <td>web development, software, applications, cloud...</td>\n",
       "      <td>2008</td>\n",
       "      <td>private</td>\n",
       "      <td>Sunnyvale, CA</td>\n",
       "      <td>NaN</td>\n",
       "      <td>NaN</td>\n",
       "      <td>420000</td>\n",
       "      <td>=\"11-50\"</td>\n",
       "      <td>670</td>\n",
       "    </tr>\n",
       "  </tbody>\n",
       "</table>\n",
       "</div>"
      ],
      "text/plain": [
       "                  DataFox Id          Name  \\\n",
       "3   5130efd78989846a360039b0    Big Blue Q   \n",
       "6   5130efe08989846a36005520      ForeSoft   \n",
       "8   5130efe28989846a36005c0e  ElectricApps   \n",
       "9   5130eff28989846a36008b2a    NewServers   \n",
       "12  5130f0098989846a3600d448        JRapid   \n",
       "\n",
       "                                         Top Keywords  Year Founded  \\\n",
       "3   file sharing, enterprises, social network medi...          2008   \n",
       "6   curated web, cloud computing, databases, paas,...          2001   \n",
       "8   cloud computing, software, paas, custom softwa...          2007   \n",
       "9   web hosting, dedicated servers, bare metal clo...          2007   \n",
       "12  web development, software, applications, cloud...          2008   \n",
       "\n",
       "   Exit Status             Location  Score Revenue Estimate  Private Funding  \\\n",
       "3          NaN         Delaware, OH    854            > $2m              NaN   \n",
       "6          NaN      Lake Zurich, IL    NaN            > $2m              NaN   \n",
       "8          NaN        Edgewater, CO    NaN            > $2m              NaN   \n",
       "9          NaN  Fort Lauderdale, FL    876            > $7m              NaN   \n",
       "12     private        Sunnyvale, CA    NaN              NaN           420000   \n",
       "\n",
       "   Headcount  Web Traffic  \n",
       "3   =\"11-50\"          NaN  \n",
       "6   =\"11-50\"          896  \n",
       "8   =\"11-50\"          NaN  \n",
       "9   =\"11-50\"            0  \n",
       "12  =\"11-50\"          670  "
      ]
     },
     "execution_count": 8,
     "metadata": {},
     "output_type": "execute_result"
    }
   ],
   "source": [
    "data[:5]    "
   ]
  },
  {
   "cell_type": "code",
   "execution_count": 9,
   "metadata": {
    "collapsed": false
   },
   "outputs": [
    {
     "data": {
      "text/plain": [
       "San Francisco, CA      15\n",
       "New York, NY            7\n",
       "Mountain View, CA       5\n",
       "San Francisco           4\n",
       "Atlanta, GA             3\n",
       "Dallas, TX              3\n",
       "Palo Alto, CA           2\n",
       "Cambridge, MA           2\n",
       "San Jose, CA            2\n",
       "Fort Collins, CO        2\n",
       "Boulder, CO             2\n",
       "Chicago, IL             2\n",
       "Los Angeles, CA         2\n",
       "Madison, WI             2\n",
       "Sunnyvale, CA           2\n",
       "Fort Lauderdale, FL     2\n",
       "Reading UK              1\n",
       "San Diego, CA           1\n",
       "New York City           1\n",
       "New Berlin, WI          1\n",
       "Moscow                  1\n",
       "Lewes, DE               1\n",
       "Santa Margarita, CA     1\n",
       "Coon Rapids, MN         1\n",
       "Waldorf, MD             1\n",
       "Salt Lake City, UT      1\n",
       "Portland, OR            1\n",
       "Rolling Meadows, IL     1\n",
       "Wilmington, DE          1\n",
       "Encinitas, CA           1\n",
       "                       ..\n",
       "Mingo Junction, OH      1\n",
       "Scottsdale, AZ          1\n",
       "Chesterfield, MO        1\n",
       "Woodinville, WA         1\n",
       "Ellicott City, MD       1\n",
       "Pleasanton              1\n",
       "Walnut, CA              1\n",
       "Lafayette, IN           1\n",
       "East Palo Alto, CA      1\n",
       "Omaha, NE               1\n",
       "Redwood City, CA        1\n",
       "Berkeley, CA            1\n",
       "Delaware, OH            1\n",
       "Bartlett, IL            1\n",
       "Plains, TX              1\n",
       "Grays Lake, IL          1\n",
       "Tokyo                   1\n",
       "Novato, CA              1\n",
       "San Mateo, CA           1\n",
       "Harrisburg, PA          1\n",
       "Coppell, TX             1\n",
       "Miami, FL               1\n",
       "Riverdale, IL           1\n",
       "Lake Zurich, IL         1\n",
       "San Diego               1\n",
       "Mobile, AL              1\n",
       "Edgewater, CO           1\n",
       "Pleasanton, CA          1\n",
       "Santa Clara, CA         1\n",
       "Edison Center, FL       1\n",
       "dtype: int64"
      ]
     },
     "execution_count": 9,
     "metadata": {},
     "output_type": "execute_result"
    }
   ],
   "source": [
    "#location counts\n",
    "data['Location'].value_counts()"
   ]
  },
  {
   "cell_type": "code",
   "execution_count": null,
   "metadata": {
    "collapsed": true
   },
   "outputs": [],
   "source": []
  }
 ],
 "metadata": {
  "kernelspec": {
   "display_name": "Python 2",
   "language": "python",
   "name": "python2"
  },
  "language_info": {
   "codemirror_mode": {
    "name": "ipython",
    "version": 2
   },
   "file_extension": ".py",
   "mimetype": "text/x-python",
   "name": "python",
   "nbconvert_exporter": "python",
   "pygments_lexer": "ipython2",
   "version": "2.7.6"
  }
 },
 "nbformat": 4,
 "nbformat_minor": 0
}
