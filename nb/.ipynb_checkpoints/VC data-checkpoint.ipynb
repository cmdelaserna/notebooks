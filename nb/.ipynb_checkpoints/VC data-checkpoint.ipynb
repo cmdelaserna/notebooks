{
 "cells": [
  {
   "cell_type": "code",
   "execution_count": 1,
   "metadata": {
    "collapsed": true
   },
   "outputs": [],
   "source": [
    "%matplotlib inline\n",
    "import pandas as pd\n",
    "from pandas import DataFrame, Series\n",
    "import numpy as np"
   ]
  },
  {
   "cell_type": "code",
   "execution_count": 2,
   "metadata": {
    "collapsed": true
   },
   "outputs": [],
   "source": [
    "filename = '../data/first-look-vc/test-matter.csv'"
   ]
  },
  {
   "cell_type": "code",
   "execution_count": 3,
   "metadata": {
    "collapsed": false,
    "scrolled": true
   },
   "outputs": [
    {
     "name": "stdout",
     "output_type": "stream",
     "text": [
      "<class 'pandas.core.frame.DataFrame'>\n",
      "Int64Index: 56 entries, 0 to 55\n",
      "Data columns (total 76 columns):\n",
      "Company Name                             56 non-null object\n",
      "Growth Score                             55 non-null float64\n",
      "Mindshare Score                          56 non-null int64\n",
      "Momentum Score                           56 non-null int64\n",
      "Website                                  56 non-null object\n",
      "Short Description                        55 non-null object\n",
      "Long Description                         54 non-null object\n",
      "Is Raising On AngelList                  56 non-null object\n",
      "AngelList Raising Amount                 2 non-null float64\n",
      "AngelList Pre-Money Valuation            1 non-null float64\n",
      "AngelList Raised Amount                  3 non-null float64\n",
      "Industry                                 56 non-null object\n",
      "Business Model                           52 non-null object\n",
      "Keywords                                 44 non-null object\n",
      "Investors                                43 non-null object\n",
      "Employee Count                           47 non-null float64\n",
      "Employees Month Ago                      46 non-null float64\n",
      "Employees Added This Month               46 non-null float64\n",
      "Employees MoM                            46 non-null float64\n",
      "Employees 6 Months Ago                   45 non-null float64\n",
      "Employees Added In 6 Months              45 non-null float64\n",
      "Employees 6 Months Growth                45 non-null float64\n",
      "Est. Monthly Uniques                     56 non-null int64\n",
      "Monthly Uniques Week Ago                 56 non-null int64\n",
      "Monthly Uniques WoW                      56 non-null int64\n",
      "Monthly Uniques Month Ago                56 non-null int64\n",
      "Monthly Uniques MoM                      56 non-null int64\n",
      "Est. Monthly Mobile Downloads            5 non-null float64\n",
      "Mobile Downloads Week Ago                4 non-null float64\n",
      "Mobile Downloads WoW                     4 non-null float64\n",
      "Mobile Downloads Month Ago               5 non-null float64\n",
      "Mobile Downloads MoM                     4 non-null float64\n",
      "Mobile Growth Score                      6 non-null float64\n",
      "Twitter Followers                        51 non-null float64\n",
      "Twitter Followers Week Ago               0 non-null float64\n",
      "Twitter Followers WoW                    0 non-null float64\n",
      "Twitter Followers Month Ago              0 non-null float64\n",
      "Twitter Followers MoM                    0 non-null float64\n",
      "Twitter Mentions Last Week               53 non-null float64\n",
      "Twitter Mentions 2 Weeks Ago             53 non-null float64\n",
      "Twitter Mentions WoW                     35 non-null float64\n",
      "Twitter Mentions Last Month              53 non-null float64\n",
      "Twitter Mentions 2 Months Ago            53 non-null float64\n",
      "Twitter Mentions MoM                     42 non-null float64\n",
      "Facebook Likes                           39 non-null float64\n",
      "Facebook Likes Week Ago                  38 non-null float64\n",
      "Facebook Likes Wow                       38 non-null float64\n",
      "Facebook Likes Month Ago                 38 non-null float64\n",
      "Facebook Likes MoM                       38 non-null float64\n",
      "Facebook Talking Last Week               34 non-null float64\n",
      "Facebook Talking 2 Weeks Ago             23 non-null float64\n",
      "Facebook Talking WoW                     23 non-null float64\n",
      "Facebook Talking Month Ago               35 non-null float64\n",
      "Facebook Talking 2 Months Ago            26 non-null float64\n",
      "Facebook Talking MoM                     24 non-null float64\n",
      "LinkedIn Follows                         48 non-null float64\n",
      "LinkedIn Follows Week Ago                46 non-null float64\n",
      "LinkedIn Follows WoW                     46 non-null float64\n",
      "LinkedIn Follows Month Ago               46 non-null float64\n",
      "LinkedIn Follows MoM                     46 non-null float64\n",
      "Est. Founding Date                       51 non-null object\n",
      "Stage                                    56 non-null object\n",
      "Total Funding                            56 non-null int64\n",
      "Last Funding Date                        56 non-null object\n",
      "Last Funding Amount                      55 non-null float64\n",
      "Location                                 56 non-null object\n",
      "City                                     56 non-null object\n",
      "Region                                   46 non-null object\n",
      "State                                    56 non-null object\n",
      "Country                                  56 non-null object\n",
      "Continent                                0 non-null float64\n",
      "Has Mobile App                           56 non-null object\n",
      " Months since last funding               56 non-null int64\n",
      " Employees added since last funding      45 non-null float64\n",
      " New person months since last funding    45 non-null float64\n",
      " New funding employee growth             55 non-null float64\n",
      "dtypes: float64(49), int64(9), object(18)\n",
      "memory usage: 33.7+ KB\n",
      "None\n",
      "=======\n",
      "  Company Name  Growth Score  Mindshare Score  Momentum Score  \\\n",
      "0   CoSchedule          1079             1079            -384   \n",
      "\n",
      "                 Website                                  Short Description  \\\n",
      "0  http://coschedule.com  CoSchedule is a drag-and-drop editorial calend...   \n",
      "\n",
      "                                    Long Description Is Raising On AngelList  \\\n",
      "0  CoSchedule is a social media editorial calenda...                      No   \n",
      "\n",
      "   AngelList Raising Amount  AngelList Pre-Money Valuation  \\\n",
      "0                       NaN                            NaN   \n",
      "\n",
      "               ...                   City Region State Country Continent  \\\n",
      "0              ...               bismarck    NaN    ND     usa       NaN   \n",
      "\n",
      "   Has Mobile App   Months since last funding  \\\n",
      "0              No                          14   \n",
      "\n",
      "    Employees added since last funding   New person months since last funding  \\\n",
      "0                                  NaN                                    NaN   \n",
      "\n",
      "    New funding employee growth  \n",
      "0                             0  \n",
      "\n",
      "[1 rows x 76 columns]\n"
     ]
    }
   ],
   "source": [
    "data = pd.read_csv(filename)\n",
    "print data.info()\n",
    "print \"=======\"\n",
    "print data[:1]"
   ]
  },
  {
   "cell_type": "code",
   "execution_count": 4,
   "metadata": {
    "collapsed": false,
    "scrolled": true
   },
   "outputs": [
    {
     "name": "stdout",
     "output_type": "stream",
     "text": [
      "new york          8\n",
      "brooklyn          4\n",
      "san francisco     3\n",
      "portland          2\n",
      "palo alto         2\n",
      "los angeles       2\n",
      "omaha             2\n",
      "boston            2\n",
      "woodland hills    2\n",
      "west hollywood    1\n",
      "downers grove     1\n",
      "greenwich         1\n",
      "kirkland          1\n",
      "pittsburgh        1\n",
      "menlo park        1\n",
      "oceanside         1\n",
      "sunnyvale         1\n",
      "england           1\n",
      "cambridge         1\n",
      "nashville         1\n",
      "memphis           1\n",
      "seattle           1\n",
      "watertown         1\n",
      "san antonio       1\n",
      "austin            1\n",
      "charleston        1\n",
      "toledo            1\n",
      "bristol           1\n",
      "foster city       1\n",
      "cleveland         1\n",
      "san anselmo       1\n",
      "missoula          1\n",
      "bismarck          1\n",
      "chicago           1\n",
      "milwaukee         1\n",
      "culver city       1\n",
      "st. louis         1\n",
      "santa monica      1\n",
      "dtype: int64\n"
     ]
    }
   ],
   "source": [
    "#cities\n",
    "cities_count = data['City'].value_counts()\n",
    "print cities_count"
   ]
  },
  {
   "cell_type": "code",
   "execution_count": 7,
   "metadata": {
    "collapsed": false
   },
   "outputs": [
    {
     "data": {
      "text/plain": [
       "<matplotlib.axes._subplots.AxesSubplot at 0x108935f90>"
      ]
     },
     "execution_count": 7,
     "metadata": {},
     "output_type": "execute_result"
    },
    {
     "data": {
      "image/png": "[encoded data removed]",
      "text/plain": [
       "<matplotlib.figure.Figure at 0x104e2cf90>"
      ]
     },
     "metadata": {},
     "output_type": "display_data"
    }
   ],
   "source": [
    "cities_count[:10].plot(kind='barh', rot=0)"
   ]
  },
  {
   "cell_type": "code",
   "execution_count": 13,
   "metadata": {
    "collapsed": false
   },
   "outputs": [
    {
     "name": "stdout",
     "output_type": "stream",
     "text": [
      "1     Linseed Capital|Jonathon Triest|Ludlow Venture...\n",
      "2                                          Y Combinator\n",
      "3     Maven Ventures|Menlo Ventures|Innovation Endea...\n",
      "4                  Oregon Angel Fund|Portland Seed Fund\n",
      "5                                             Techstars\n",
      "6                                          500 Startups\n",
      "7     Starta Capital|Eugene M.|Constantine Filin|eug...\n",
      "8     ff Venture Capital|New York Angels|Digital Sci...\n",
      "11                    Founders Fund|Andreessen Horowitz\n",
      "12              500 Startups|PALgenesis|Massy Mehdipour\n",
      "13    Parana Management BVBA|Bart De Pelsmaeker|Pete...\n",
      "14    500 Startups|Clayton Associates|Bullpen Ventur...\n",
      "15                                         Y Combinator\n",
      "16    Y Combinator|Alliance of Angels|Justin Kan|Emm...\n",
      "17    Flywheel Ventures|Tech Coast Angels|Start Fund...\n",
      "18                                         500 Startups\n",
      "19                   Techstars|VegasTechFund|Star Power\n",
      "21                           True Global Ventures (TGV)\n",
      "22                                        Shawn Schulze\n",
      "25    Southpaw Asset Management|Hudson Bay Capital M...\n",
      "26    Fort Washington Capital Partners Group|John Os...\n",
      "27                            Geoff Judge|David S. Rose\n",
      "28     Kepha Partners|Tom Burgess|CommonAngels Ventures\n",
      "30    DreamIt Ventures|Great Oaks Venture Capital|Be...\n",
      "31         Paul Fraser|John Greathouse|Peter Hargreaves\n",
      "32                             LAUNCHub|Startupbootcamp\n",
      "33    Foundry Group|Boulder Ventures|Invest Nebraska...\n",
      "34    Start Co|Seed Hatchery|malmo ventures|Start Co...\n",
      "35    Progress Ventures|Allen Debevoise|Nick Rau|BDM...\n",
      "36                          Curious Minds|Startup Minds\n",
      "37                                        MassChallenge\n",
      "39                      Alliance of Angels|Vijay Vashee\n",
      "40                                    Vipul Ved Prakash\n",
      "41                               Startmate|500 Startups\n",
      "42    Sandra Fisher|Micky Muller|Jens Blaumeirer|Die...\n",
      "44                                         derek martin\n",
      "48                                 Mark Cuban|Coalition\n",
      "49                                         Paul Pangaro\n",
      "50                                               Bizdom\n",
      "51                                    Broadmark Capital\n",
      "52                                           Automattic\n",
      "53    Techstars|Anne Wojcicki|Tech Coast Angels|Wend...\n",
      "55                                   Hearst Corporation\n",
      "Name: Investors, dtype: object\n"
     ]
    },
    {
     "data": {
      "text/plain": [
       "pandas.core.series.Series"
      ]
     },
     "execution_count": 13,
     "metadata": {},
     "output_type": "execute_result"
    }
   ],
   "source": [
    "vc_count = data['Investors'].dropna()\n",
    "print vc_count\n",
    "type(vc_count)"
   ]
  },
  {
   "cell_type": "code",
   "execution_count": null,
   "metadata": {
    "collapsed": true
   },
   "outputs": [],
   "source": []
  }
 ],
 "metadata": {
  "kernelspec": {
   "display_name": "Python 2",
   "language": "python",
   "name": "python2"
  },
  "language_info": {
   "codemirror_mode": {
    "name": "ipython",
    "version": 2
   },
   "file_extension": ".py",
   "mimetype": "text/x-python",
   "name": "python",
   "nbconvert_exporter": "python",
   "pygments_lexer": "ipython2",
   "version": "2.7.6"
  }
 },
 "nbformat": 4,
 "nbformat_minor": 0
}
