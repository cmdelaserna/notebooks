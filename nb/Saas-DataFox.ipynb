{
 "cells": [
  {
   "cell_type": "code",
   "execution_count": 2,
   "metadata": {
    "collapsed": true
   },
   "outputs": [],
   "source": [
    "%matplotlib inline\n",
    "import pandas as pd\n",
    "from pandas import DataFrame, Series\n",
    "import numpy as np"
   ]
  },
  {
   "cell_type": "code",
   "execution_count": 3,
   "metadata": {
    "collapsed": true
   },
   "outputs": [],
   "source": [
    "url = '../data/first-look-vc/SaaS-july614.csv'"
   ]
  },
  {
   "cell_type": "code",
   "execution_count": 4,
   "metadata": {
    "collapsed": false
   },
   "outputs": [
    {
     "name": "stdout",
     "output_type": "stream",
     "text": [
      "<class 'pandas.core.frame.DataFrame'>\n",
      "Int64Index: 280 entries, 0 to 279\n",
      "Data columns (total 11 columns):\n",
      "DataFox Id          280 non-null object\n",
      "Name                280 non-null object\n",
      "Top Keywords        279 non-null object\n",
      "Year Founded        226 non-null float64\n",
      "Exit Status         15 non-null object\n",
      "Location            111 non-null object\n",
      "Score               75 non-null float64\n",
      "Revenue Estimate    64 non-null object\n",
      "Private Funding     81 non-null float64\n",
      "Headcount           280 non-null object\n",
      "Web Traffic         159 non-null float64\n",
      "dtypes: float64(4), object(7)\n",
      "memory usage: 26.2+ KB\n",
      "None\n"
     ]
    }
   ],
   "source": [
    "data = pd.read_csv(url)\n",
    "print data.info()"
   ]
  },
  {
   "cell_type": "code",
   "execution_count": 5,
   "metadata": {
    "collapsed": false
   },
   "outputs": [
    {
     "data": {
      "text/html": [
       "<div>\n",
       "<table border=\"1\" class=\"dataframe\">\n",
       "  <thead>\n",
       "    <tr style=\"text-align: right;\">\n",
       "      <th></th>\n",
       "      <th>DataFox Id</th>\n",
       "      <th>Name</th>\n",
       "      <th>Top Keywords</th>\n",
       "      <th>Year Founded</th>\n",
       "      <th>Exit Status</th>\n",
       "      <th>Location</th>\n",
       "      <th>Score</th>\n",
       "      <th>Revenue Estimate</th>\n",
       "      <th>Private Funding</th>\n",
       "      <th>Headcount</th>\n",
       "      <th>Web Traffic</th>\n",
       "    </tr>\n",
       "  </thead>\n",
       "  <tbody>\n",
       "    <tr>\n",
       "      <th>0</th>\n",
       "      <td>5130efcc8989846a360017f0</td>\n",
       "      <td>Diversity Limited</td>\n",
       "      <td>content, web development, saas, enterprise sof...</td>\n",
       "      <td>2007</td>\n",
       "      <td>NaN</td>\n",
       "      <td>NaN</td>\n",
       "      <td>NaN</td>\n",
       "      <td>NaN</td>\n",
       "      <td>NaN</td>\n",
       "      <td>=\"1-10\"</td>\n",
       "      <td>NaN</td>\n",
       "    </tr>\n",
       "    <tr>\n",
       "      <th>1</th>\n",
       "      <td>5130efd08989846a3600225a</td>\n",
       "      <td>Qrimp</td>\n",
       "      <td>application platforms, software, saas, paas, d...</td>\n",
       "      <td>2006</td>\n",
       "      <td>NaN</td>\n",
       "      <td>NaN</td>\n",
       "      <td>NaN</td>\n",
       "      <td>NaN</td>\n",
       "      <td>NaN</td>\n",
       "      <td>=\"Unknown\"</td>\n",
       "      <td>436</td>\n",
       "    </tr>\n",
       "    <tr>\n",
       "      <th>2</th>\n",
       "      <td>5130efd28989846a36002872</td>\n",
       "      <td>Xcerion</td>\n",
       "      <td>webos, web development, software, cloud comput...</td>\n",
       "      <td>2001</td>\n",
       "      <td>NaN</td>\n",
       "      <td>NaN</td>\n",
       "      <td>937</td>\n",
       "      <td>&gt; $7m</td>\n",
       "      <td>15340000</td>\n",
       "      <td>=\"11-50\"</td>\n",
       "      <td>1004</td>\n",
       "    </tr>\n",
       "    <tr>\n",
       "      <th>3</th>\n",
       "      <td>5130efd78989846a360039b0</td>\n",
       "      <td>Big Blue Q</td>\n",
       "      <td>file sharing, enterprises, social network medi...</td>\n",
       "      <td>2008</td>\n",
       "      <td>NaN</td>\n",
       "      <td>Delaware, OH</td>\n",
       "      <td>854</td>\n",
       "      <td>&gt; $2m</td>\n",
       "      <td>NaN</td>\n",
       "      <td>=\"11-50\"</td>\n",
       "      <td>NaN</td>\n",
       "    </tr>\n",
       "    <tr>\n",
       "      <th>4</th>\n",
       "      <td>5130efd98989846a36003d22</td>\n",
       "      <td>Intera</td>\n",
       "      <td>video on demand, project management, crm, soft...</td>\n",
       "      <td>NaN</td>\n",
       "      <td>NaN</td>\n",
       "      <td>NaN</td>\n",
       "      <td>NaN</td>\n",
       "      <td>NaN</td>\n",
       "      <td>NaN</td>\n",
       "      <td>=\"11-50\"</td>\n",
       "      <td>NaN</td>\n",
       "    </tr>\n",
       "  </tbody>\n",
       "</table>\n",
       "</div>"
      ],
      "text/plain": [
       "                 DataFox Id               Name  \\\n",
       "0  5130efcc8989846a360017f0  Diversity Limited   \n",
       "1  5130efd08989846a3600225a              Qrimp   \n",
       "2  5130efd28989846a36002872            Xcerion   \n",
       "3  5130efd78989846a360039b0         Big Blue Q   \n",
       "4  5130efd98989846a36003d22             Intera   \n",
       "\n",
       "                                        Top Keywords  Year Founded  \\\n",
       "0  content, web development, saas, enterprise sof...          2007   \n",
       "1  application platforms, software, saas, paas, d...          2006   \n",
       "2  webos, web development, software, cloud comput...          2001   \n",
       "3  file sharing, enterprises, social network medi...          2008   \n",
       "4  video on demand, project management, crm, soft...           NaN   \n",
       "\n",
       "  Exit Status      Location  Score Revenue Estimate  Private Funding  \\\n",
       "0         NaN           NaN    NaN              NaN              NaN   \n",
       "1         NaN           NaN    NaN              NaN              NaN   \n",
       "2         NaN           NaN    937            > $7m         15340000   \n",
       "3         NaN  Delaware, OH    854            > $2m              NaN   \n",
       "4         NaN           NaN    NaN              NaN              NaN   \n",
       "\n",
       "    Headcount  Web Traffic  \n",
       "0     =\"1-10\"          NaN  \n",
       "1  =\"Unknown\"          436  \n",
       "2    =\"11-50\"         1004  \n",
       "3    =\"11-50\"          NaN  \n",
       "4    =\"11-50\"          NaN  "
      ]
     },
     "execution_count": 5,
     "metadata": {},
     "output_type": "execute_result"
    }
   ],
   "source": [
    "data[:5]"
   ]
  },
  {
   "cell_type": "code",
   "execution_count": 14,
   "metadata": {
    "collapsed": false
   },
   "outputs": [
    {
     "name": "stdout",
     "output_type": "stream",
     "text": [
      "<class 'pandas.core.frame.DataFrame'>\n",
      "Int64Index: 43 entries, 12 to 272\n",
      "Data columns (total 11 columns):\n",
      "DataFox Id          43 non-null object\n",
      "Name                43 non-null object\n",
      "Top Keywords        43 non-null object\n",
      "Year Founded        40 non-null float64\n",
      "Exit Status         7 non-null object\n",
      "Location            43 non-null object\n",
      "Score               21 non-null float64\n",
      "Revenue Estimate    7 non-null object\n",
      "Private Funding     43 non-null float64\n",
      "Headcount           43 non-null object\n",
      "Web Traffic         39 non-null float64\n",
      "dtypes: float64(4), object(7)\n",
      "memory usage: 4.0+ KB\n"
     ]
    }
   ],
   "source": [
    "#dropping records without a location & private funding data\n",
    "data = data[pd.notnull(data['Location'])]\n",
    "data = data[pd.notnull(data['Private Funding'])]\n",
    "data.info()"
   ]
  },
  {
   "cell_type": "code",
   "execution_count": 13,
   "metadata": {
    "collapsed": false
   },
   "outputs": [
    {
     "data": {
      "text/html": [
       "<div>\n",
       "<table border=\"1\" class=\"dataframe\">\n",
       "  <thead>\n",
       "    <tr style=\"text-align: right;\">\n",
       "      <th></th>\n",
       "      <th>DataFox Id</th>\n",
       "      <th>Name</th>\n",
       "      <th>Top Keywords</th>\n",
       "      <th>Year Founded</th>\n",
       "      <th>Exit Status</th>\n",
       "      <th>Location</th>\n",
       "      <th>Score</th>\n",
       "      <th>Revenue Estimate</th>\n",
       "      <th>Private Funding</th>\n",
       "      <th>Headcount</th>\n",
       "      <th>Web Traffic</th>\n",
       "    </tr>\n",
       "  </thead>\n",
       "  <tbody>\n",
       "    <tr>\n",
       "      <th>12</th>\n",
       "      <td>5130f0098989846a3600d448</td>\n",
       "      <td>JRapid</td>\n",
       "      <td>web development, software, applications, cloud...</td>\n",
       "      <td>2008</td>\n",
       "      <td>private</td>\n",
       "      <td>Sunnyvale, CA</td>\n",
       "      <td>NaN</td>\n",
       "      <td>NaN</td>\n",
       "      <td>420000</td>\n",
       "      <td>=\"11-50\"</td>\n",
       "      <td>670</td>\n",
       "    </tr>\n",
       "    <tr>\n",
       "      <th>21</th>\n",
       "      <td>5130f02c8989846a360149d0</td>\n",
       "      <td>Waspit</td>\n",
       "      <td>reviews and recommendations, payments, banking...</td>\n",
       "      <td>2012</td>\n",
       "      <td>NaN</td>\n",
       "      <td>New York, NY</td>\n",
       "      <td>NaN</td>\n",
       "      <td>NaN</td>\n",
       "      <td>3000000</td>\n",
       "      <td>=\"11-50\"</td>\n",
       "      <td>1585</td>\n",
       "    </tr>\n",
       "    <tr>\n",
       "      <th>26</th>\n",
       "      <td>5130f0368989846a36016b94</td>\n",
       "      <td>Continuent</td>\n",
       "      <td>consumer electronics, hardware + software, ope...</td>\n",
       "      <td>2004</td>\n",
       "      <td>deadpooled</td>\n",
       "      <td>San Jose, CA</td>\n",
       "      <td>NaN</td>\n",
       "      <td>&gt; $7m</td>\n",
       "      <td>5750000</td>\n",
       "      <td>12</td>\n",
       "      <td>10792</td>\n",
       "    </tr>\n",
       "    <tr>\n",
       "      <th>40</th>\n",
       "      <td>5130f05d8989846a3601f8d2</td>\n",
       "      <td>SharePlow</td>\n",
       "      <td>file sharing, curated web, graphics, paas, gov...</td>\n",
       "      <td>2009</td>\n",
       "      <td>NaN</td>\n",
       "      <td>Omaha, NE</td>\n",
       "      <td>NaN</td>\n",
       "      <td>NaN</td>\n",
       "      <td>650000</td>\n",
       "      <td>=\"1-10\"</td>\n",
       "      <td>0</td>\n",
       "    </tr>\n",
       "    <tr>\n",
       "      <th>58</th>\n",
       "      <td>5130f0798989846a36025684</td>\n",
       "      <td>Carvoyant</td>\n",
       "      <td>big data, location based services, automotive,...</td>\n",
       "      <td>2011</td>\n",
       "      <td>private</td>\n",
       "      <td>Tampa, FL</td>\n",
       "      <td>910</td>\n",
       "      <td>&gt; $1m</td>\n",
       "      <td>0</td>\n",
       "      <td>=\"1-10\"</td>\n",
       "      <td>2054</td>\n",
       "    </tr>\n",
       "  </tbody>\n",
       "</table>\n",
       "</div>"
      ],
      "text/plain": [
       "                  DataFox Id        Name  \\\n",
       "12  5130f0098989846a3600d448      JRapid   \n",
       "21  5130f02c8989846a360149d0      Waspit   \n",
       "26  5130f0368989846a36016b94  Continuent   \n",
       "40  5130f05d8989846a3601f8d2   SharePlow   \n",
       "58  5130f0798989846a36025684   Carvoyant   \n",
       "\n",
       "                                         Top Keywords  Year Founded  \\\n",
       "12  web development, software, applications, cloud...          2008   \n",
       "21  reviews and recommendations, payments, banking...          2012   \n",
       "26  consumer electronics, hardware + software, ope...          2004   \n",
       "40  file sharing, curated web, graphics, paas, gov...          2009   \n",
       "58  big data, location based services, automotive,...          2011   \n",
       "\n",
       "   Exit Status       Location  Score Revenue Estimate  Private Funding  \\\n",
       "12     private  Sunnyvale, CA    NaN              NaN           420000   \n",
       "21         NaN   New York, NY    NaN              NaN          3000000   \n",
       "26  deadpooled   San Jose, CA    NaN            > $7m          5750000   \n",
       "40         NaN      Omaha, NE    NaN              NaN           650000   \n",
       "58     private      Tampa, FL    910            > $1m                0   \n",
       "\n",
       "   Headcount  Web Traffic  \n",
       "12  =\"11-50\"          670  \n",
       "21  =\"11-50\"         1585  \n",
       "26        12        10792  \n",
       "40   =\"1-10\"            0  \n",
       "58   =\"1-10\"         2054  "
      ]
     },
     "execution_count": 13,
     "metadata": {},
     "output_type": "execute_result"
    }
   ],
   "source": [
    "data[:5]  "
   ]
  },
  {
   "cell_type": "code",
   "execution_count": 18,
   "metadata": {
    "collapsed": false
   },
   "outputs": [
    {
     "data": {
      "text/plain": [
       "New York, NY           6\n",
       "San Francisco, CA      5\n",
       "Mountain View, CA      3\n",
       "Atlanta, GA            2\n",
       "Boulder, CO            2\n",
       "Madison, WI            2\n",
       "San Francisco          2\n",
       "Cambridge, MA          2\n",
       "Pleasanton, CA         1\n",
       "Redwood City, CA       1\n",
       "Palo Alto, CA          1\n",
       "San Jose, CA           1\n",
       "Seattle, WA            1\n",
       "Wilmington, DE         1\n",
       "Reading UK             1\n",
       "East Palo Alto, CA     1\n",
       "Encinitas, CA          1\n",
       "San Diego, CA          1\n",
       "Chicago, IL            1\n",
       "Omaha, NE              1\n",
       "Dallas, TX             1\n",
       "Tampa, FL              1\n",
       "Rolling Meadows, IL    1\n",
       "Ellicott City, MD      1\n",
       "Sunnyvale, CA          1\n",
       "Coon Rapids, MN        1\n",
       "Edison Center, FL      1\n",
       "dtype: int64"
      ]
     },
     "execution_count": 18,
     "metadata": {},
     "output_type": "execute_result"
    }
   ],
   "source": [
    "#location counts\n",
    "data['Location'].value_counts()"
   ]
  },
  {
   "cell_type": "code",
   "execution_count": null,
   "metadata": {
    "collapsed": true
   },
   "outputs": [],
   "source": []
  }
 ],
 "metadata": {
  "kernelspec": {
   "display_name": "Python 2",
   "language": "python",
   "name": "python2"
  },
  "language_info": {
   "codemirror_mode": {
    "name": "ipython",
    "version": 2
   },
   "file_extension": ".py",
   "mimetype": "text/x-python",
   "name": "python",
   "nbconvert_exporter": "python",
   "pygments_lexer": "ipython2",
   "version": "2.7.6"
  }
 },
 "nbformat": 4,
 "nbformat_minor": 0
}
