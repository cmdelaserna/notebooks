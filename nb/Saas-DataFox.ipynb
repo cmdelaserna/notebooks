{
 "cells": [
  {
   "cell_type": "code",
   "execution_count": 1,
   "metadata": {
    "collapsed": true
   },
   "outputs": [],
   "source": [
    "%matplotlib inline\n",
    "import pandas as pd\n",
    "from pandas import DataFrame, Series\n",
    "import numpy as np"
   ]
  },
  {
   "cell_type": "code",
   "execution_count": 4,
   "metadata": {
    "collapsed": true
   },
   "outputs": [],
   "source": [
    "url = '../data/first-look-vc/SaaS-july614.csv'"
   ]
  },
  {
   "cell_type": "code",
   "execution_count": 5,
   "metadata": {
    "collapsed": false
   },
   "outputs": [
    {
     "name": "stdout",
     "output_type": "stream",
     "text": [
      "<class 'pandas.core.frame.DataFrame'>\n",
      "Int64Index: 280 entries, 0 to 279\n",
      "Data columns (total 11 columns):\n",
      "DataFox Id          280 non-null object\n",
      "Name                280 non-null object\n",
      "Top Keywords        279 non-null object\n",
      "Year Founded        226 non-null float64\n",
      "Exit Status         15 non-null object\n",
      "Location            111 non-null object\n",
      "Score               75 non-null float64\n",
      "Revenue Estimate    64 non-null object\n",
      "Private Funding     81 non-null float64\n",
      "Headcount           280 non-null object\n",
      "Web Traffic         159 non-null float64\n",
      "dtypes: float64(4), object(7)\n",
      "memory usage: 26.2+ KB\n",
      "None\n"
     ]
    }
   ],
   "source": [
    "data = pd.read_csv(url)\n",
    "print data.info()"
   ]
  },
  {
   "cell_type": "code",
   "execution_count": 9,
   "metadata": {
    "collapsed": false
   },
   "outputs": [
    {
     "data": {
      "text/html": [
       "<div>\n",
       "<table border=\"1\" class=\"dataframe\">\n",
       "  <thead>\n",
       "    <tr style=\"text-align: right;\">\n",
       "      <th></th>\n",
       "      <th>DataFox Id</th>\n",
       "      <th>Name</th>\n",
       "      <th>Top Keywords</th>\n",
       "      <th>Year Founded</th>\n",
       "      <th>Exit Status</th>\n",
       "      <th>Location</th>\n",
       "      <th>Score</th>\n",
       "      <th>Revenue Estimate</th>\n",
       "      <th>Private Funding</th>\n",
       "      <th>Headcount</th>\n",
       "      <th>Web Traffic</th>\n",
       "    </tr>\n",
       "  </thead>\n",
       "  <tbody>\n",
       "    <tr>\n",
       "      <th>0</th>\n",
       "      <td>5130efcc8989846a360017f0</td>\n",
       "      <td>Diversity Limited</td>\n",
       "      <td>content, web development, saas, enterprise sof...</td>\n",
       "      <td>2007</td>\n",
       "      <td>NaN</td>\n",
       "      <td>NaN</td>\n",
       "      <td>NaN</td>\n",
       "      <td>NaN</td>\n",
       "      <td>NaN</td>\n",
       "      <td>=\"1-10\"</td>\n",
       "      <td>NaN</td>\n",
       "    </tr>\n",
       "    <tr>\n",
       "      <th>1</th>\n",
       "      <td>5130efd08989846a3600225a</td>\n",
       "      <td>Qrimp</td>\n",
       "      <td>application platforms, software, saas, paas, d...</td>\n",
       "      <td>2006</td>\n",
       "      <td>NaN</td>\n",
       "      <td>NaN</td>\n",
       "      <td>NaN</td>\n",
       "      <td>NaN</td>\n",
       "      <td>NaN</td>\n",
       "      <td>=\"Unknown\"</td>\n",
       "      <td>436</td>\n",
       "    </tr>\n",
       "    <tr>\n",
       "      <th>2</th>\n",
       "      <td>5130efd28989846a36002872</td>\n",
       "      <td>Xcerion</td>\n",
       "      <td>webos, web development, software, cloud comput...</td>\n",
       "      <td>2001</td>\n",
       "      <td>NaN</td>\n",
       "      <td>NaN</td>\n",
       "      <td>937</td>\n",
       "      <td>&gt; $7m</td>\n",
       "      <td>15340000</td>\n",
       "      <td>=\"11-50\"</td>\n",
       "      <td>1004</td>\n",
       "    </tr>\n",
       "    <tr>\n",
       "      <th>3</th>\n",
       "      <td>5130efd78989846a360039b0</td>\n",
       "      <td>Big Blue Q</td>\n",
       "      <td>file sharing, enterprises, social network medi...</td>\n",
       "      <td>2008</td>\n",
       "      <td>NaN</td>\n",
       "      <td>Delaware, OH</td>\n",
       "      <td>854</td>\n",
       "      <td>&gt; $2m</td>\n",
       "      <td>NaN</td>\n",
       "      <td>=\"11-50\"</td>\n",
       "      <td>NaN</td>\n",
       "    </tr>\n",
       "    <tr>\n",
       "      <th>4</th>\n",
       "      <td>5130efd98989846a36003d22</td>\n",
       "      <td>Intera</td>\n",
       "      <td>video on demand, project management, crm, soft...</td>\n",
       "      <td>NaN</td>\n",
       "      <td>NaN</td>\n",
       "      <td>NaN</td>\n",
       "      <td>NaN</td>\n",
       "      <td>NaN</td>\n",
       "      <td>NaN</td>\n",
       "      <td>=\"11-50\"</td>\n",
       "      <td>NaN</td>\n",
       "    </tr>\n",
       "  </tbody>\n",
       "</table>\n",
       "</div>"
      ],
      "text/plain": [
       "                 DataFox Id               Name  \\\n",
       "0  5130efcc8989846a360017f0  Diversity Limited   \n",
       "1  5130efd08989846a3600225a              Qrimp   \n",
       "2  5130efd28989846a36002872            Xcerion   \n",
       "3  5130efd78989846a360039b0         Big Blue Q   \n",
       "4  5130efd98989846a36003d22             Intera   \n",
       "\n",
       "                                        Top Keywords  Year Founded  \\\n",
       "0  content, web development, saas, enterprise sof...          2007   \n",
       "1  application platforms, software, saas, paas, d...          2006   \n",
       "2  webos, web development, software, cloud comput...          2001   \n",
       "3  file sharing, enterprises, social network medi...          2008   \n",
       "4  video on demand, project management, crm, soft...           NaN   \n",
       "\n",
       "  Exit Status      Location  Score Revenue Estimate  Private Funding  \\\n",
       "0         NaN           NaN    NaN              NaN              NaN   \n",
       "1         NaN           NaN    NaN              NaN              NaN   \n",
       "2         NaN           NaN    937            > $7m         15340000   \n",
       "3         NaN  Delaware, OH    854            > $2m              NaN   \n",
       "4         NaN           NaN    NaN              NaN              NaN   \n",
       "\n",
       "    Headcount  Web Traffic  \n",
       "0     =\"1-10\"          NaN  \n",
       "1  =\"Unknown\"          436  \n",
       "2    =\"11-50\"         1004  \n",
       "3    =\"11-50\"          NaN  \n",
       "4    =\"11-50\"          NaN  "
      ]
     },
     "execution_count": 9,
     "metadata": {},
     "output_type": "execute_result"
    }
   ],
   "source": [
    "data[:5]"
   ]
  },
  {
   "cell_type": "code",
   "execution_count": 12,
   "metadata": {
    "collapsed": false
   },
   "outputs": [
    {
     "name": "stdout",
     "output_type": "stream",
     "text": [
      "<class 'pandas.core.frame.DataFrame'>\n",
      "Int64Index: 111 entries, 3 to 277\n",
      "Data columns (total 11 columns):\n",
      "DataFox Id          111 non-null object\n",
      "Name                111 non-null object\n",
      "Top Keywords        111 non-null object\n",
      "Year Founded        92 non-null float64\n",
      "Exit Status         10 non-null object\n",
      "Location            111 non-null object\n",
      "Score               34 non-null float64\n",
      "Revenue Estimate    27 non-null object\n",
      "Private Funding     43 non-null float64\n",
      "Headcount           111 non-null object\n",
      "Web Traffic         79 non-null float64\n",
      "dtypes: float64(4), object(7)\n",
      "memory usage: 10.4+ KB\n"
     ]
    }
   ],
   "source": [
    "data = data[pd.notnull(data['Location'])]\n",
    "data[:5]\n",
    "data.info()"
   ]
  },
  {
   "cell_type": "code",
   "execution_count": null,
   "metadata": {
    "collapsed": true
   },
   "outputs": [],
   "source": []
  }
 ],
 "metadata": {
  "kernelspec": {
   "display_name": "Python 2",
   "language": "python",
   "name": "python2"
  },
  "language_info": {
   "codemirror_mode": {
    "name": "ipython",
    "version": 2
   },
   "file_extension": ".py",
   "mimetype": "text/x-python",
   "name": "python",
   "nbconvert_exporter": "python",
   "pygments_lexer": "ipython2",
   "version": "2.7.6"
  }
 },
 "nbformat": 4,
 "nbformat_minor": 0
}
